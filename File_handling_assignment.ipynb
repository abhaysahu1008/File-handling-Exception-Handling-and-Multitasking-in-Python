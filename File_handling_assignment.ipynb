{
 "cells": [
  {
   "cell_type": "code",
   "execution_count": 1,
   "metadata": {},
   "outputs": [],
   "source": [
    "#1. Write a code to read the contents of a file in Python.\n",
    "def read_file(file_path):\n",
    "    with open(file_path, 'r') as file:\n",
    "        contents = file.read()\n",
    "    return contents\n",
    "\n",
    "# Example usage\n",
    "content = read_file('example.txt')\n",
    "print(content)\n"
   ]
  },
  {
   "cell_type": "code",
   "execution_count": null,
   "metadata": {},
   "outputs": [],
   "source": [
    "#2. Write a code to write to a file in Python.\n",
    "def write_file(file_path, content):\n",
    "    with open(file_path, 'w') as file:\n",
    "        file.write(content)\n",
    "\n",
    "# Example usage\n",
    "write_file('example.txt', 'Hello, World!')\n"
   ]
  },
  {
   "cell_type": "code",
   "execution_count": null,
   "metadata": {},
   "outputs": [],
   "source": [
    "#3. Write a code to append to a file in Python.\n",
    "def append_file(file_path, content):\n",
    "    with open(file_path, 'a') as file:\n",
    "        file.write(content)\n",
    "\n",
    "# Example usage\n",
    "append_file('example.txt', '\\nAppended content')\n"
   ]
  },
  {
   "cell_type": "code",
   "execution_count": null,
   "metadata": {},
   "outputs": [],
   "source": [
    "#4. Write a code to read a binary file in Python.\n",
    "def read_binary_file(file_path):\n",
    "    with open(file_path, 'rb') as file:\n",
    "        contents = file.read()\n",
    "    return contents\n",
    "\n",
    "# Example usage\n",
    "binary_content = read_binary_file('example.bin')\n",
    "print(binary_content)\n"
   ]
  },
  {
   "cell_type": "markdown",
   "metadata": {},
   "source": [
    "#5. What happens if we don't use with keyword with open in Python?\n",
    "\n",
    "\n",
    "If we don't use the with keyword, we need to explicitly call the close() method on the file object to ensure the file is properly closed. Not closing the file can lead to resource leaks and may cause issues with file handling, such as data corruption or running out of file handles.\n",
    "\n",
    "file = open('example.txt', 'r')\n",
    "content = file.read()\n",
    "file.close()\n"
   ]
  },
  {
   "cell_type": "markdown",
   "metadata": {},
   "source": [
    "#6. Explain the concept of buffering in file handling and how it helps in improving read and write operations.\n",
    "\n",
    "Buffering refers to the process of temporarily storing data in a buffer while it's being transferred between a program and a file. This helps in improving read and write operations by reducing the number of I/O operations, as data is read or written in larger chunks rather than one byte or line at a time.\n",
    "\n"
   ]
  },
  {
   "cell_type": "code",
   "execution_count": null,
   "metadata": {},
   "outputs": [],
   "source": [
    "#7. Describe the steps involved in implementing buffered file handling in a programming language of your choice.\n",
    "\n",
    "\n",
    "'''In Python, buffered file handling is usually managed automatically when using the open function with an appropriate \n",
    "buffering parameter.'''\n",
    "\n",
    "# Buffered reading\n",
    "file = open('example.txt', 'r', buffering=1024)\n",
    "content = file.read()\n",
    "file.close()\n",
    "\n",
    "# Buffered writing\n",
    "file = open('example.txt', 'w', buffering=1024)\n",
    "file.write('Buffered content')\n",
    "file.close()\n"
   ]
  },
  {
   "cell_type": "code",
   "execution_count": null,
   "metadata": {},
   "outputs": [],
   "source": [
    "#8. Write a Python function to read a text file using buffered reading and return its contents\n",
    "\n",
    "\n",
    "def buffered_read(file_path):\n",
    "    with open(file_path, 'r', buffering=1024) as file:\n",
    "        return file.read()\n",
    "\n",
    "# Example usage\n",
    "content = buffered_read('example.txt')\n",
    "print(content)\n"
   ]
  },
  {
   "cell_type": "markdown",
   "metadata": {},
   "source": [
    "#9. What are the advantages of using buffered reading over direct file reading in Python?\n",
    "\n",
    "Advantages of using buffered reading over direct file reading:\n",
    "\n",
    ".Improved performance by reducing the number of I/O operations.\n",
    ".Reduced system call overhead.\n",
    ".Better handling of large files by reading data in chunks."
   ]
  },
  {
   "cell_type": "code",
   "execution_count": null,
   "metadata": {},
   "outputs": [],
   "source": [
    "#10. Write a Python code snippet to append content to a file using buffered writing.\n",
    "\n",
    "def buffered_append(file_path, content):\n",
    "    with open(file_path, 'a', buffering=1024) as file:\n",
    "        file.write(content)\n",
    "\n",
    "# Example usage\n",
    "buffered_append('example.txt', 'Buffered append content\\n')\n"
   ]
  },
  {
   "cell_type": "code",
   "execution_count": null,
   "metadata": {},
   "outputs": [],
   "source": [
    "#11. Write a Python function that demonstrates the use of close() method on a file.\n",
    "\n",
    "def close_file(file_path, content):\n",
    "    file = open(file_path, 'w')\n",
    "    file.write(content)\n",
    "    file.close()\n",
    "\n",
    "# Example usage\n",
    "close_file('example.txt', 'Content to write and close')\n"
   ]
  },
  {
   "cell_type": "code",
   "execution_count": null,
   "metadata": {},
   "outputs": [],
   "source": [
    "#12. Create a Python function to showcase the detach() method on a file object.\n",
    "\n",
    "def detach_file(file_path):\n",
    "    with open(file_path, 'rb') as file:\n",
    "        binary_buffer = file.detach()\n",
    "        return binary_buffer\n",
    "\n",
    "# Example usage\n",
    "buffer = detach_file('example.txt')\n",
    "print(buffer)\n"
   ]
  },
  {
   "cell_type": "code",
   "execution_count": null,
   "metadata": {},
   "outputs": [],
   "source": [
    "#13. Write a Python function to demonstrate the use of the seek() method to change the file position.\n",
    "\n",
    "def seek_example(file_path, position):\n",
    "    with open(file_path, 'r') as file:\n",
    "        file.seek(position)\n",
    "        return file.read()\n",
    "\n",
    "# Example usage\n",
    "content = seek_example('example.txt', 10)\n",
    "print(content)\n"
   ]
  },
  {
   "cell_type": "code",
   "execution_count": null,
   "metadata": {},
   "outputs": [],
   "source": [
    "#14. Create a Python function to return the file descriptor (integer number) of a file using the fileno() method.\n",
    "\n",
    "def get_file_descriptor(file_path):\n",
    "    with open(file_path, 'r') as file:\n",
    "        return file.fileno()\n",
    "\n",
    "# Example usage\n",
    "fd = get_file_descriptor('example.txt')\n",
    "print(fd)\n"
   ]
  },
  {
   "cell_type": "code",
   "execution_count": null,
   "metadata": {},
   "outputs": [],
   "source": [
    "#15. Write a Python function to return the current position of the file's object using the tell() method.\n",
    "\n",
    "def get_file_position(file_path):\n",
    "    with open(file_path, 'r') as file:\n",
    "        file.read(10)\n",
    "        return file.tell()\n",
    "\n",
    "# Example usage\n",
    "position = get_file_position('example.txt')\n",
    "print(position)\n"
   ]
  },
  {
   "cell_type": "code",
   "execution_count": null,
   "metadata": {},
   "outputs": [],
   "source": [
    "#16. Create a Python program that logs a message to a file using the logging module.\n",
    "\n",
    "import logging\n",
    "\n",
    "def log_message(file_path, message):\n",
    "    logging.basicConfig(filename=file_path, level=logging.INFO)\n",
    "    logging.info(message)\n",
    "\n",
    "# Example usage\n",
    "log_message('example.log', 'This is a log message')\n"
   ]
  },
  {
   "cell_type": "markdown",
   "metadata": {},
   "source": [
    "#17. Explain the importance of logging levels in Python's logging module.\n",
    "\n",
    "Logging levels (DEBUG, INFO, WARNING, ERROR, CRITICAL) allow developers to categorize the importance and severity of log messages. This helps in filtering and managing log output, making it easier to focus on relevant information during development, debugging, and production monitoring.\n",
    "\n"
   ]
  },
  {
   "cell_type": "code",
   "execution_count": null,
   "metadata": {},
   "outputs": [],
   "source": [
    "#18. Create a Python program that uses the debugger to find the value of a variable inside a loop.\n",
    "\n",
    "import pdb\n",
    "\n",
    "def debug_loop():\n",
    "    for i in range(5):\n",
    "        pdb.set_trace()\n",
    "        print(f'Current value: {i}')\n",
    "\n",
    "# Example usage\n",
    "debug_loop()\n"
   ]
  },
  {
   "cell_type": "code",
   "execution_count": null,
   "metadata": {},
   "outputs": [],
   "source": [
    "#19. Create a Python program that demonstrates setting breakpoints and inspecting variables using the debugger.\n",
    "\n",
    "import pdb\n",
    "\n",
    "def demo_debugger():\n",
    "    x = 10\n",
    "    y = 20\n",
    "    pdb.set_trace()  # Set a breakpoint here\n",
    "    z = x + y\n",
    "    print(f'Sum: {z}')\n",
    "\n",
    "# Example usage\n",
    "demo_debugger()\n"
   ]
  },
  {
   "cell_type": "code",
   "execution_count": null,
   "metadata": {},
   "outputs": [],
   "source": [
    "#20. Create a Python program that uses the debugger to trace a recursive function.\n",
    "\n",
    "import pdb\n",
    "\n",
    "def factorial(n):\n",
    "    pdb.set_trace()  # Set a breakpoint here\n",
    "    if n == 0:\n",
    "        return 1\n",
    "    else:\n",
    "        return n * factorial(n - 1)\n",
    "\n",
    "# Example usage\n",
    "result = factorial(5)\n",
    "print(f'Factorial: {result}')\n"
   ]
  },
  {
   "cell_type": "code",
   "execution_count": null,
   "metadata": {},
   "outputs": [],
   "source": [
    "#21. Write a try-except block to handle a ZeroDivisionError.\n",
    "\n",
    "try:\n",
    "    result = 10 / 0\n",
    "except ZeroDivisionError:\n",
    "    print(\"Cannot divide by zero!\")\n"
   ]
  },
  {
   "cell_type": "markdown",
   "metadata": {},
   "source": [
    "#22. How does the else block work with try-except?\n",
    "\n",
    "The else block in a try-except construct is executed only if no exceptions are raised in the try block. It is useful for code that should run if the try block succeeds without exceptions."
   ]
  },
  {
   "cell_type": "code",
   "execution_count": null,
   "metadata": {},
   "outputs": [],
   "source": [
    "#23. Implement a try-except-else block to open and read a file.\n",
    "\n",
    "try:\n",
    "    file = open('example.txt', 'r')\n",
    "except FileNotFoundError:\n",
    "    print(\"File not found.\")\n",
    "else:\n",
    "    content = file.read()\n",
    "    print(content)\n",
    "    file.close()\n"
   ]
  },
  {
   "cell_type": "markdown",
   "metadata": {},
   "source": [
    "#24. What is the purpose of the finally block in exception handling?\n",
    "\n",
    "The finally block is used to execute code that should run regardless of whether an exception was raised or not. It is typically used for cleanup actions like closing files or releasing resources."
   ]
  },
  {
   "cell_type": "code",
   "execution_count": null,
   "metadata": {},
   "outputs": [],
   "source": [
    "#25. Write a try-except-finally block to handle a ValueError.\n",
    "\n",
    "try:\n",
    "    number = int(\"abc\")\n",
    "except ValueError:\n",
    "    print(\"Invalid number.\")\n",
    "finally:\n",
    "    print(\"Execution complete.\")\n"
   ]
  },
  {
   "cell_type": "code",
   "execution_count": null,
   "metadata": {},
   "outputs": [],
   "source": [
    "#26. How multiple except blocks work in Python?\n",
    "\n",
    "'''Multiple except blocks allow handling different types of exceptions separately. Python evaluates each except block in order,\n",
    "and the first matching exception type is executed.'''\n",
    "\n",
    "try:\n",
    "    x = int(\"abc\")\n",
    "except ValueError:\n",
    "    print(\"Caught a ValueError\")\n",
    "except TypeError:\n",
    "    print(\"Caught a TypeError\")\n",
    "\n"
   ]
  },
  {
   "cell_type": "markdown",
   "metadata": {},
   "source": [
    "#27. What is a custom exception in Python?\n",
    "\n",
    "A custom exception in Python is a user-defined exception class that inherits from the base Exception class. It allows creating specific error types for better error handling in your programs."
   ]
  },
  {
   "cell_type": "code",
   "execution_count": null,
   "metadata": {},
   "outputs": [],
   "source": [
    "#28. Create a custom exception class with a message.\n",
    "\n",
    "class NegativeValueError(Exception):\n",
    "    def __init__(self, message=\"Negative value is not allowed\"):\n",
    "        self.message = message\n",
    "        super().__init__(self.message)\n"
   ]
  },
  {
   "cell_type": "code",
   "execution_count": null,
   "metadata": {},
   "outputs": [],
   "source": [
    "#29. Write a code to raise a custom exception in Python.\n",
    "\n",
    "class CustomError(Exception):\n",
    "    def __init__(self, message):\n",
    "        self.message = message\n",
    "        super().__init__(self.message)\n",
    "\n",
    "# Example usage\n",
    "raise CustomError(\"This is a custom error message\")\n"
   ]
  },
  {
   "cell_type": "code",
   "execution_count": null,
   "metadata": {},
   "outputs": [],
   "source": [
    "#30. Write a function that raises a custom exception when a value is negative.\n",
    "\n",
    "class NegativeValueError(Exception):\n",
    "    def __init__(self, message=\"Negative value is not allowed\"):\n",
    "        self.message = message\n",
    "        super().__init__(self.message)\n",
    "\n",
    "def check_value(value):\n",
    "    if value < 0:\n",
    "        raise NegativeValueError(f\"Value {value} is negative\")\n",
    "\n",
    "# Example usage\n",
    "try:\n",
    "    check_value(-10)\n",
    "except NegativeValueError as e:\n",
    "    print(e)\n"
   ]
  },
  {
   "cell_type": "markdown",
   "metadata": {},
   "source": [
    "#31. What is the role of try, except, else, and finally in handling exceptions?\n",
    "\n",
    "Role of try, except, else, and finally in handling exceptions:\n",
    "\n",
    ".try: Code that might raise an exception is placed here.\n",
    ".except: Code that handles exceptions is placed here.\n",
    ".else: Code that runs if no exceptions occur in the try block.\n",
    ".finally: Code that runs regardless of whether an exception occurred or not, typically used for cleanup.\n"
   ]
  },
  {
   "cell_type": "markdown",
   "metadata": {},
   "source": [
    "#32. How can custom exceptions improve code readability and maintainability?\n",
    "\n",
    "Custom exceptions make it clear what specific errors are being handled, making the code more readable and easier to debug. They also allow for more granular error handling and can carry more context-specific information."
   ]
  },
  {
   "cell_type": "markdown",
   "metadata": {},
   "source": [
    "#33. What is multithreading?\n",
    "\n",
    "Multithreading is a technique where multiple threads are spawned by a process to execute different tasks concurrently, sharing the same memory space.\n",
    "\n"
   ]
  },
  {
   "cell_type": "code",
   "execution_count": null,
   "metadata": {},
   "outputs": [],
   "source": [
    "#34. Create a thread in Python.\n",
    "\n",
    "import threading\n",
    "\n",
    "def print_hello():\n",
    "    print(\"Hello from thread\")\n",
    "\n",
    "# Create a thread\n",
    "thread = threading.Thread(target=print_hello)\n",
    "thread.start()\n",
    "thread.join()\n"
   ]
  },
  {
   "cell_type": "markdown",
   "metadata": {},
   "source": [
    "#35. What is the Global Interpreter Lock (GIL) in Python?\n",
    "\n",
    "The GIL is a mutex that protects access to Python objects, preventing multiple threads from executing Python bytecodes at once. This ensures thread safety but can be a bottleneck in CPU-bound multi-threaded programs.\n",
    "\n"
   ]
  },
  {
   "cell_type": "code",
   "execution_count": null,
   "metadata": {},
   "outputs": [],
   "source": [
    "#36. Implement a simple multithreading example in Python.\n",
    "\n",
    "import threading\n",
    "\n",
    "def print_numbers():\n",
    "    for i in range(5):\n",
    "        print(i)\n",
    "\n",
    "def print_letters():\n",
    "    for letter in 'abcde':\n",
    "        print(letter)\n",
    "\n",
    "thread1 = threading.Thread(target=print_numbers)\n",
    "thread2 = threading.Thread(target=print_letters)\n",
    "\n",
    "thread1.start()\n",
    "thread2.start()\n",
    "\n",
    "thread1.join()\n",
    "thread2.join()\n"
   ]
  },
  {
   "cell_type": "markdown",
   "metadata": {},
   "source": [
    "#37. What is the purpose of the join() method in threading?\n",
    "\n",
    "The join() method ensures that the program waits for the thread to complete before moving on to the next part of the program. It is used to synchronize threads."
   ]
  },
  {
   "cell_type": "markdown",
   "metadata": {},
   "source": [
    "#38. Describe a scenario where multithreading would be beneficial in Python.\n",
    "\n",
    "Multithreading is beneficial in I/O-bound applications like web scraping, file I/O, or network communications, where threads can perform operations while waiting for I/O operations to complete.\n",
    "\n"
   ]
  },
  {
   "cell_type": "markdown",
   "metadata": {},
   "source": [
    "#39. What is multiprocessing in Python?\n",
    "\n",
    "Multiprocessing is a technique where multiple processes are created to execute tasks concurrently, with each process having its own memory space. It bypasses the GIL limitation, allowing parallel execution on multiple CPU cores.\n",
    "\n"
   ]
  },
  {
   "cell_type": "markdown",
   "metadata": {},
   "source": [
    "#40. How is multiprocessing different from multithreading in Python?\n",
    "\n",
    "Multithreading: Multiple threads within the same process, sharing the same memory space. Limited by the GIL in Python.\n",
    "Multiprocessing: Multiple processes, each with its own memory space. No GIL limitation, allowing true parallelism on multiple CPUs."
   ]
  },
  {
   "cell_type": "code",
   "execution_count": null,
   "metadata": {},
   "outputs": [],
   "source": [
    "#41. Create a process using the multiprocessing module in Python.\n",
    "\n",
    "from multiprocessing import Process\n",
    "\n",
    "def print_hello():\n",
    "    print(\"Hello from process\")\n",
    "\n",
    "if __name__ == \"__main__\":\n",
    "    process = Process(target=print_hello)\n",
    "    process.start()\n",
    "    process.join()\n"
   ]
  },
  {
   "cell_type": "markdown",
   "metadata": {},
   "source": [
    "#42. Explain the concept of Pool in the multiprocessing module.\n",
    "\n",
    "The Pool class in the multiprocessing module allows for managing a pool of worker processes. It enables parallel execution of a function across multiple input values, distributing the tasks among the pool of workers."
   ]
  },
  {
   "cell_type": "code",
   "execution_count": null,
   "metadata": {},
   "outputs": [],
   "source": [
    "#43. Explain inter-process communication in multiprocessing.\n",
    "\n",
    "'''Inter-process communication (IPC) allows processes to exchange data. In Python, IPC can be achieved using queues, pipes, \n",
    "or shared memory. The multiprocessing module provides Queue and Pipe for message passing and Value and Array for shared memory.'''\n",
    "\n",
    "from multiprocessing import Process, Queue\n",
    "\n",
    "def worker(queue):\n",
    "    queue.put(\"Message from worker\")\n",
    "\n",
    "if __name__ == \"__main__\":\n",
    "    queue = Queue()\n",
    "    process = Process(target=worker, args=(queue,))\n",
    "    process.start()\n",
    "    print(queue.get())  # Receive message from worker\n",
    "    process.join()\n"
   ]
  }
 ],
 "metadata": {
  "kernelspec": {
   "display_name": "Python 3 (ipykernel)",
   "language": "python",
   "name": "python3"
  },
  "language_info": {
   "codemirror_mode": {
    "name": "ipython",
    "version": 3
   },
   "file_extension": ".py",
   "mimetype": "text/x-python",
   "name": "python",
   "nbconvert_exporter": "python",
   "pygments_lexer": "ipython3",
   "version": "3.10.8"
  }
 },
 "nbformat": 4,
 "nbformat_minor": 4
}
